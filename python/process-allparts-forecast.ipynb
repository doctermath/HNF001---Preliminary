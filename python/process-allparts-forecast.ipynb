{
 "cells": [
  {
   "cell_type": "markdown",
   "metadata": {},
   "source": [
    "Python Script to generate Spare Parts Demand for 14th Month by 13 Last Month  \n",
    "Original Author     : Michael Brandon  \n",
    "Original Modified   : 2024-12-24  \n",
    "Modified By         : Unknown Player  \n",
    "Modified Date       : 2024-12-24  "
   ]
  },
  {
   "cell_type": "code",
   "execution_count": 1,
   "metadata": {},
   "outputs": [],
   "source": [
    "# PACKAGES\n",
    "import numpy as np\n",
    "import pandas as pd\n",
    "import matplotlib.pyplot as plt\n",
    "from sklearn.metrics import mean_squared_error, r2_score\n",
    "from sklearn.linear_model import LinearRegression\n",
    "from sklearn.preprocessing import PolynomialFeatures\n",
    "from statsmodels.tsa.api import SimpleExpSmoothing, ExponentialSmoothing\n",
    "from tabulate import tabulate\n",
    "import os\n",
    "import json\n",
    "import sys\n",
    "import requests\n",
    "import math\n",
    "\n",
    "# Set Display Width Longer\n",
    "pd.options.display.max_colwidth = 100 # 100 for long width"
   ]
  },
  {
   "cell_type": "code",
   "execution_count": null,
   "metadata": {},
   "outputs": [],
   "source": [
    "# Retrive JSON Data From API.\n",
    "url = \"http://172.16.1.59:18080/v1/web/get-spare-parts-all-history-data\"\n",
    "\n",
    "# Fetch JSON data from the API\n",
    "response = requests.get(url)\n",
    "response.raise_for_status()  # Raise an error if the request fails\n",
    "df = response.json()  # Parse JSON data\n",
    "\n",
    "# Convert JSON to Pandas DataFrame\n",
    "data = pd.DataFrame(df['data'][:5])\n",
    "display(data)"
   ]
  },
  {
   "cell_type": "code",
   "execution_count": 32,
   "metadata": {},
   "outputs": [],
   "source": [
    "# Retrive Data from json\n",
    "with open('from_api.json', 'r') as file:\n",
    "    jsonData = json.load(file)\n",
    "jsonData = jsonData['data'][:5]\n",
    "data = pd.DataFrame(jsonData)"
   ]
  },
  {
   "cell_type": "code",
   "execution_count": 33,
   "metadata": {},
   "outputs": [],
   "source": [
    "# Add Metric to the data\n",
    "\n",
    "# get mean and standart deviation of first 12 data\n",
    "data['mean_12'] = data['D'].apply(lambda x: np.mean(x[:12]))\n",
    "data['std_12'] = data['D'].apply(lambda x: np.std(x[:12], ddof=1))\n",
    "\n",
    "# get upper bound from mean and std\n",
    "data['ub'] = data['mean_12'] + 1.5 * data['std_12']\n",
    "\n",
    "# limit the original data to upper bound\n",
    "data['clipped_d'] = data.apply(lambda row: np.clip(row['D'][:12], 0, row['ub']).tolist(), axis=1)\n",
    "# display(data)"
   ]
  },
  {
   "cell_type": "code",
   "execution_count": 44,
   "metadata": {},
   "outputs": [],
   "source": [
    "# Calculate Simple Moving Average ?? this only calculate mean of data, not SMA\n",
    "def calculate_ma(list):\n",
    "    oldData = []\n",
    "    newData = []\n",
    "    for i in list:\n",
    "        # store calculated data to old list\n",
    "        oldData.append(i)\n",
    "        newData.append(np.mean(oldData))\n",
    "    return newData\n",
    "\n",
    "data['ma'] = data['clipped_d'].apply(calculate_ma)\n",
    "data['ma_result'] = data['ma'].apply(lambda x: x[-1:])\n",
    "# data['ma_result'] = data['clipped_d'].apply(lambda x: np.mean(x))\n",
    "# display(data)\n"
   ]
  },
  {
   "cell_type": "code",
   "execution_count": null,
   "metadata": {},
   "outputs": [],
   "source": [
    "# Calculate Exponential Weighted Moving Average (EWMA)\n",
    "def ewma(list, alpha):\n",
    "    df = pd.DataFrame(list)\n",
    "    df['ewma'] = df.ewm(alpha=alpha, adjust=False).mean()\n",
    "    return df['ewma'].tolist()\n",
    "\n",
    "ewma_alpha = 0.3\n",
    "data['ewma'] = data['clipped_d'].apply(lambda x: ewma(x, ewma_alpha))\n",
    "data['ewma_result'] = data['ewma'].apply(lambda x: x[-1:])\n",
    "# display(data['ewma'][0])\n",
    "# display(data)"
   ]
  },
  {
   "cell_type": "code",
   "execution_count": 86,
   "metadata": {},
   "outputs": [],
   "source": [
    "#  Calculate Linear Regression\n",
    "def lr(x):\n",
    "    df = pd.DataFrame()\n",
    "    df['y'] = x\n",
    "    df['x'] = range(1, len(df) + 1)\n",
    "    model =  LinearRegression()\n",
    "    model.fit(df[['x']], df['y'])\n",
    "    df.loc[len(df), 'x'] = len(df) + 1\n",
    "    return model.predict(df[['x']])\n",
    "\n",
    "data['lr'] = data['clipped_d'].apply(lambda x: lr(x))\n",
    "data['lr_result'] = data['lr'].apply(lambda x: x[-1:])\n",
    "# display(data)\n"
   ]
  },
  {
   "cell_type": "code",
   "execution_count": 135,
   "metadata": {},
   "outputs": [],
   "source": [
    "# Calculate Polynomial Regression\n",
    "def pr(x, pr_degree):\n",
    "    df = pd.DataFrame()\n",
    "    df['y'] = x\n",
    "    df['x'] = range(1, len(df) + 1)\n",
    "\n",
    "    X = df[['x']]  # Independent variable (reshape to 2D array)\n",
    "    y = df['y']    # Dependent variable\n",
    "\n",
    "    poly = PolynomialFeatures(degree=pr_degree)  # Create polynomial features\n",
    "    X_poly = poly.fit_transform(X)  # Transform input features\n",
    "    poly_model = LinearRegression()  # Initialize linear regression model\n",
    "    poly_model.fit(X_poly, y)  # Fit polynomial model\n",
    "\n",
    "    df.loc[len(df), 'x'] = len(df) + 1\n",
    "    X_all_poly = poly.transform(df[['x']])\n",
    "    return poly_model.predict(X_all_poly)  \n",
    "\n",
    "data['pr2'] = data['clipped_d'].apply(lambda x: pr(x, 2))\n",
    "data['pr2_result'] = data['pr2'].apply(lambda x: x[-1:])\n",
    "data['pr3'] = data['clipped_d'].apply(lambda x: pr(x, 3))\n",
    "data['pr3_result'] = data['pr3'].apply(lambda x: x[-1:])\n",
    "# display(data)\n"
   ]
  },
  {
   "cell_type": "code",
   "execution_count": 133,
   "metadata": {},
   "outputs": [],
   "source": [
    "# Calculate Single Exponential Smoothing\n",
    "def ses(x, alpha):\n",
    "    df = pd.DataFrame()\n",
    "    df['y'] = x\n",
    "    df['x'] = range(1, len(df) + 1)\n",
    "    df.loc[len(df), 'x'] = len(df) + 1\n",
    "\n",
    "    new_data = SimpleExpSmoothing(df['y']).fit(smoothing_level=alpha, optimized=False).fittedvalues\n",
    "    return new_data.tolist()\n",
    "\n",
    "data['ses'] = data['clipped_d'].apply(lambda x: ses(x, 0.8))\n",
    "data['ses_result'] = data['ses'].apply(lambda x: x[-1:])\n",
    "# display(data)"
   ]
  },
  {
   "cell_type": "code",
   "execution_count": 138,
   "metadata": {},
   "outputs": [],
   "source": [
    "# Calculate Double Exponential Smoothing\n",
    "def des(x, alpha, beta):\n",
    "    df = pd.DataFrame()\n",
    "    df['y'] = x\n",
    "    df['x'] = range(1, len(df) + 1)\n",
    "    df.loc[len(df), 'x'] = len(df) + 1\n",
    "\n",
    "    new_data = ExponentialSmoothing(df['y'], trend='add', seasonal=None).fit(smoothing_level=alpha, smoothing_trend=beta, optimized=False).fittedvalues\n",
    "    return new_data.tolist()\n",
    "\n",
    "data['des'] = data['clipped_d'].apply(lambda x: des(x, 0.8, 0.3))\n",
    "data['des_result'] = data['des'].apply(lambda x: x[-1:])\n",
    "# display(data)"
   ]
  }
 ],
 "metadata": {
  "kernelspec": {
   "display_name": "Python 3",
   "language": "python",
   "name": "python3"
  },
  "language_info": {
   "codemirror_mode": {
    "name": "ipython",
    "version": 3
   },
   "file_extension": ".py",
   "mimetype": "text/x-python",
   "name": "python",
   "nbconvert_exporter": "python",
   "pygments_lexer": "ipython3",
   "version": "3.10.6"
  }
 },
 "nbformat": 4,
 "nbformat_minor": 2
}
