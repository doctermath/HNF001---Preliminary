{
  "cells": [
    {
      "cell_type": "code",
      "execution_count": 10,
      "metadata": {
        "colab": {
          "base_uri": "https://localhost:8080/",
          "height": 1000
        },
        "id": "MUGr9pRUN7T3",
        "outputId": "ceb673cd-7293-4760-87b7-3ce2035d5ae2"
      },
      "outputs": [
        {
          "data": {
            "text/html": [
              "<div>\n",
              "<style scoped>\n",
              "    .dataframe tbody tr th:only-of-type {\n",
              "        vertical-align: middle;\n",
              "    }\n",
              "\n",
              "    .dataframe tbody tr th {\n",
              "        vertical-align: top;\n",
              "    }\n",
              "\n",
              "    .dataframe thead th {\n",
              "        text-align: right;\n",
              "    }\n",
              "</style>\n",
              "<table border=\"1\" class=\"dataframe\">\n",
              "  <thead>\n",
              "    <tr style=\"text-align: right;\">\n",
              "      <th></th>\n",
              "      <th>P/N</th>\n",
              "      <th>DN Price</th>\n",
              "      <th>Qty Per Engine</th>\n",
              "      <th>Qty Per Package</th>\n",
              "      <th>DTM</th>\n",
              "      <th>D-1</th>\n",
              "      <th>D-2</th>\n",
              "      <th>D-3</th>\n",
              "      <th>D-4</th>\n",
              "      <th>D-5</th>\n",
              "      <th>...</th>\n",
              "      <th>C-3</th>\n",
              "      <th>C-4</th>\n",
              "      <th>C-5</th>\n",
              "      <th>C-6</th>\n",
              "      <th>C-7</th>\n",
              "      <th>C-8</th>\n",
              "      <th>C-9</th>\n",
              "      <th>C-10</th>\n",
              "      <th>C-11</th>\n",
              "      <th>C-12</th>\n",
              "    </tr>\n",
              "  </thead>\n",
              "  <tbody>\n",
              "    <tr>\n",
              "      <th>0</th>\n",
              "      <td>129888</td>\n",
              "      <td>2.50</td>\n",
              "      <td>2</td>\n",
              "      <td>12</td>\n",
              "      <td>2</td>\n",
              "      <td>10</td>\n",
              "      <td>6</td>\n",
              "      <td>2</td>\n",
              "      <td>2</td>\n",
              "      <td>12</td>\n",
              "      <td>...</td>\n",
              "      <td>1</td>\n",
              "      <td>1</td>\n",
              "      <td>5</td>\n",
              "      <td>0</td>\n",
              "      <td>4</td>\n",
              "      <td>2</td>\n",
              "      <td>7</td>\n",
              "      <td>4</td>\n",
              "      <td>1</td>\n",
              "      <td>4</td>\n",
              "    </tr>\n",
              "    <tr>\n",
              "      <th>1</th>\n",
              "      <td>130083</td>\n",
              "      <td>16.55</td>\n",
              "      <td>6</td>\n",
              "      <td>2</td>\n",
              "      <td>0</td>\n",
              "      <td>4</td>\n",
              "      <td>18</td>\n",
              "      <td>6</td>\n",
              "      <td>6</td>\n",
              "      <td>10</td>\n",
              "      <td>...</td>\n",
              "      <td>1</td>\n",
              "      <td>1</td>\n",
              "      <td>2</td>\n",
              "      <td>4</td>\n",
              "      <td>1</td>\n",
              "      <td>3</td>\n",
              "      <td>2</td>\n",
              "      <td>3</td>\n",
              "      <td>0</td>\n",
              "      <td>1</td>\n",
              "    </tr>\n",
              "    <tr>\n",
              "      <th>2</th>\n",
              "      <td>131584</td>\n",
              "      <td>2.58</td>\n",
              "      <td>2</td>\n",
              "      <td>10</td>\n",
              "      <td>2</td>\n",
              "      <td>2</td>\n",
              "      <td>7</td>\n",
              "      <td>6</td>\n",
              "      <td>0</td>\n",
              "      <td>2</td>\n",
              "      <td>...</td>\n",
              "      <td>2</td>\n",
              "      <td>0</td>\n",
              "      <td>1</td>\n",
              "      <td>1</td>\n",
              "      <td>2</td>\n",
              "      <td>4</td>\n",
              "      <td>3</td>\n",
              "      <td>3</td>\n",
              "      <td>0</td>\n",
              "      <td>1</td>\n",
              "    </tr>\n",
              "    <tr>\n",
              "      <th>3</th>\n",
              "      <td>132770</td>\n",
              "      <td>16.02</td>\n",
              "      <td>2</td>\n",
              "      <td>1</td>\n",
              "      <td>0</td>\n",
              "      <td>2</td>\n",
              "      <td>0</td>\n",
              "      <td>0</td>\n",
              "      <td>0</td>\n",
              "      <td>2</td>\n",
              "      <td>...</td>\n",
              "      <td>0</td>\n",
              "      <td>0</td>\n",
              "      <td>1</td>\n",
              "      <td>0</td>\n",
              "      <td>0</td>\n",
              "      <td>1</td>\n",
              "      <td>0</td>\n",
              "      <td>0</td>\n",
              "      <td>0</td>\n",
              "      <td>0</td>\n",
              "    </tr>\n",
              "    <tr>\n",
              "      <th>4</th>\n",
              "      <td>205230</td>\n",
              "      <td>36.03</td>\n",
              "      <td>34</td>\n",
              "      <td>1</td>\n",
              "      <td>60</td>\n",
              "      <td>60</td>\n",
              "      <td>60</td>\n",
              "      <td>60</td>\n",
              "      <td>60</td>\n",
              "      <td>60</td>\n",
              "      <td>...</td>\n",
              "      <td>2</td>\n",
              "      <td>2</td>\n",
              "      <td>2</td>\n",
              "      <td>3</td>\n",
              "      <td>0</td>\n",
              "      <td>3</td>\n",
              "      <td>1</td>\n",
              "      <td>1</td>\n",
              "      <td>3</td>\n",
              "      <td>1</td>\n",
              "    </tr>\n",
              "  </tbody>\n",
              "</table>\n",
              "<p>5 rows × 30 columns</p>\n",
              "</div>"
            ],
            "text/plain": [
              "      P/N  DN Price  Qty Per Engine  Qty Per Package  DTM  D-1  D-2  D-3  D-4  \\\n",
              "0  129888      2.50               2               12    2   10    6    2    2   \n",
              "1  130083     16.55               6                2    0    4   18    6    6   \n",
              "2  131584      2.58               2               10    2    2    7    6    0   \n",
              "3  132770     16.02               2                1    0    2    0    0    0   \n",
              "4  205230     36.03              34                1   60   60   60   60   60   \n",
              "\n",
              "   D-5  ...  C-3  C-4  C-5  C-6  C-7  C-8  C-9  C-10  C-11  C-12  \n",
              "0   12  ...    1    1    5    0    4    2    7     4     1     4  \n",
              "1   10  ...    1    1    2    4    1    3    2     3     0     1  \n",
              "2    2  ...    2    0    1    1    2    4    3     3     0     1  \n",
              "3    2  ...    0    0    1    0    0    1    0     0     0     0  \n",
              "4   60  ...    2    2    2    3    0    3    1     1     3     1  \n",
              "\n",
              "[5 rows x 30 columns]"
            ]
          },
          "metadata": {},
          "output_type": "display_data"
        }
      ],
      "source": [
        "#PACKAGES\n",
        "import numpy as np\n",
        "import pandas as pd\n",
        "import seaborn as sns\n",
        "import matplotlib.pyplot as plt\n",
        "from scipy import stats\n",
        "from sklearn.model_selection import train_test_split\n",
        "from sklearn.metrics import mean_squared_error, r2_score\n",
        "from sklearn.linear_model import LinearRegression\n",
        "from sklearn.preprocessing import PolynomialFeatures\n",
        "from statsmodels.tsa.api import SimpleExpSmoothing, Holt, ExponentialSmoothing\n",
        "# from google.colab import files\n",
        "import json\n",
        "from tabulate import tabulate\n",
        "import os\n",
        "\n",
        "# DATA\n",
        "file_path = 'data.json'\n",
        "with open(file_path,'r') as f:\n",
        "    json_data = json.load(f)\n",
        "data = pd.DataFrame(json_data)\n",
        "display(data.head())\n"
      ]
    },
    {
      "cell_type": "code",
      "execution_count": 11,
      "metadata": {},
      "outputs": [
        {
          "data": {
            "image/png": "[encoded data removed]",
            "text/plain": [
              "<Figure size 1200x800 with 1 Axes>"
            ]
          },
          "metadata": {},
          "output_type": "display_data"
        },
        {
          "data": {
            "text/plain": [
              "<Figure size 640x480 with 0 Axes>"
            ]
          },
          "metadata": {},
          "output_type": "display_data"
        },
        {
          "data": {
            "image/png": "[encoded data removed]",
            "text/plain": [
              "<Figure size 1000x600 with 1 Axes>"
            ]
          },
          "metadata": {},
          "output_type": "display_data"
        },
        {
          "name": "stdout",
          "output_type": "stream",
          "text": [
            "╒════╤════════╤══════════╤════════════╤═════════════════╤════════════════════════════════╤════════════════════════════════╤═════════════════════════════════════════════╤═════════════════════════════════════════════╤══════════════════╤══════════════════╕\n",
            "│    │    P/N │   Period │   Quantity │   MA_Prediction │   Smoothed_Weighted_Prediction │   Linear_Regression_Prediction │   Polynomial_Regression_Prediction_Degree_2 │   Polynomial_Regression_Prediction_Degree_3 │   SES_Prediction │   DES_Prediction │\n",
            "╞════╪════════╪══════════╪════════════╪═════════════════╪════════════════════════════════╪════════════════════════════════╪═════════════════════════════════════════════╪═════════════════════════════════════════════╪══════════════════╪══════════════════╡\n",
            "│  0 │ 205230 │        1 │         34 │         34      │                        34      │                        48.8718 │                                     47.0769 │                                     51.3846 │          34      │         47.4182  │\n",
            "├────┼────────┼──────────┼────────────┼─────────────────┼────────────────────────────────┼────────────────────────────────┼─────────────────────────────────────────────┼─────────────────────────────────────────────┼──────────────────┼──────────────────┤\n",
            "│  1 │ 205230 │        2 │         94 │         64      │                        52      │                        50.2284 │                                     49.4126 │                                     49.021  │          34      │         35.2815  │\n",
            "├────┼────────┼──────────┼────────────┼─────────────────┼────────────────────────────────┼────────────────────────────────┼─────────────────────────────────────────────┼─────────────────────────────────────────────┼──────────────────┼──────────────────┤\n",
            "│  2 │ 205230 │        3 │         26 │         51.3333 │                        44.2    │                        51.5851 │                                     51.5524 │                                     48.8112 │          82      │         94.9466  │\n",
            "├────┼────────┼──────────┼────────────┼─────────────────┼────────────────────────────────┼────────────────────────────────┼─────────────────────────────────────────────┼─────────────────────────────────────────────┼──────────────────┼──────────────────┤\n",
            "│  3 │ 205230 │        4 │         26 │         45      │                        38.74   │                        52.9417 │                                     53.4965 │                                     50.2331 │          37.2    │         35.9324  │\n",
            "├────┼────────┼──────────┼────────────┼─────────────────┼────────────────────────────────┼────────────────────────────────┼─────────────────────────────────────────────┼─────────────────────────────────────────────┼──────────────────┼──────────────────┤\n",
            "│  4 │ 205230 │        5 │         94 │         54.8    │                        55.318  │                        54.2984 │                                     55.2448 │                                     52.7646 │          28.24   │         21.7458  │\n",
            "├────┼────────┼──────────┼────────────┼─────────────────┼────────────────────────────────┼────────────────────────────────┼─────────────────────────────────────────────┼─────────────────────────────────────────────┼──────────────────┼──────────────────┤\n",
            "│  5 │ 205230 │        6 │          0 │         45.6667 │                        38.7226 │                        55.655  │                                     56.7972 │                                     55.8834 │          80.848  │         90.6495  │\n",
            "├────┼────────┼──────────┼────────────┼─────────────────┼────────────────────────────────┼────────────────────────────────┼─────────────────────────────────────────────┼─────────────────────────────────────────────┼──────────────────┼──────────────────┤\n",
            "│  6 │ 205230 │        7 │        102 │         53.7143 │                        57.7058 │                        57.0117 │                                     58.1538 │                                     59.0676 │          16.1696 │          7.47435 │\n",
            "├────┼────────┼──────────┼────────────┼─────────────────┼────────────────────────────────┼────────────────────────────────┼─────────────────────────────────────────────┼─────────────────────────────────────────────┼──────────────────┼──────────────────┤\n",
            "│  7 │ 205230 │        8 │         60 │         54.5    │                        58.3941 │                        58.3683 │                                     59.3147 │                                     61.7949 │          84.8339 │         95.1255  │\n",
            "├────┼────────┼──────────┼────────────┼─────────────────┼────────────────────────────────┼────────────────────────────────┼─────────────────────────────────────────────┼─────────────────────────────────────────────┼──────────────────┼──────────────────┤\n",
            "│  8 │ 205230 │        9 │         60 │         55.1111 │                        58.8759 │                        59.7249 │                                     60.2797 │                                     63.5431 │          64.9668 │         70.6256  │\n",
            "├────┼────────┼──────────┼────────────┼─────────────────┼────────────────────────────────┼────────────────────────────────┼─────────────────────────────────────────────┼─────────────────────────────────────────────┼──────────────────┼──────────────────┤\n",
            "│  9 │ 205230 │       10 │         60 │         55.6    │                        59.2131 │                        61.0816 │                                     61.049  │                                     63.7902 │          60.9934 │         63.1755  │\n",
            "├────┼────────┼──────────┼────────────┼─────────────────┼────────────────────────────────┼────────────────────────────────┼─────────────────────────────────────────────┼─────────────────────────────────────────────┼──────────────────┼──────────────────┤\n",
            "│ 10 │ 205230 │       11 │         60 │         56      │                        59.4492 │                        62.4382 │                                     61.6224 │                                     62.014  │          60.1987 │         60.9233  │\n",
            "├────┼────────┼──────────┼────────────┼─────────────────┼────────────────────────────────┼────────────────────────────────┼─────────────────────────────────────────────┼─────────────────────────────────────────────┼──────────────────┼──────────────────┤\n",
            "│ 11 │ 205230 │       12 │         60 │         56.3333 │                        59.6144 │                        63.7949 │                                     62      │                                     57.6923 │          60.0397 │         60.2513  │\n",
            "├────┼────────┼──────────┼────────────┼─────────────────┼────────────────────────────────┼────────────────────────────────┼─────────────────────────────────────────────┼─────────────────────────────────────────────┼──────────────────┼──────────────────┤\n",
            "│ 12 │    nan │       13 │        nan │         52      │                        59.6144 │                        65.1515 │                                     62.1818 │                                     50.303  │          60.0079 │         60.0566  │\n",
            "╘════╧════════╧══════════╧════════════╧═════════════════╧════════════════════════════════╧════════════════════════════════╧═════════════════════════════════════════════╧═════════════════════════════════════════════╧══════════════════╧══════════════════╛\n",
            "╒════╤═══════════════════════════════════════════╤═════════╤════════════╕\n",
            "│    │ Model                                     │    RMSE │         R2 │\n",
            "╞════╪═══════════════════════════════════════════╪═════════╪════════════╡\n",
            "│  1 │ Smoothed_Weighted_Prediction              │ 24.5292 │  0.312539  │\n",
            "├────┼───────────────────────────────────────────┼─────────┼────────────┤\n",
            "│  0 │ MA_Prediction                             │ 25.7542 │  0.242161  │\n",
            "├────┼───────────────────────────────────────────┼─────────┼────────────┤\n",
            "│  4 │ Polynomial_Regression_Prediction_Degree_3 │ 29.0674 │  0.0346295 │\n",
            "├────┼───────────────────────────────────────────┼─────────┼────────────┤\n",
            "│  3 │ Polynomial_Regression_Prediction_Degree_2 │ 29.1929 │  0.0262773 │\n",
            "├────┼───────────────────────────────────────────┼─────────┼────────────┤\n",
            "│  2 │ Linear_Regression_Prediction              │ 29.2111 │  0.0250592 │\n",
            "├────┼───────────────────────────────────────────┼─────────┼────────────┤\n",
            "│  5 │ SES_Prediction                            │ 46.3065 │ -1.45      │\n",
            "├────┼───────────────────────────────────────────┼─────────┼────────────┤\n",
            "│  6 │ DES_Prediction                            │ 51.8097 │ -2.06693   │\n",
            "╘════╧═══════════════════════════════════════════╧═════════╧════════════╛\n",
            "╒════════════════════════════╤══════════════════════════════╕\n",
            "│ Metric                     │ Value                        │\n",
            "╞════════════════════════════╪══════════════════════════════╡\n",
            "│ P/N                        │ 205230                       │\n",
            "├────────────────────────────┼──────────────────────────────┤\n",
            "│ Best Model                 │ Smoothed_Weighted_Prediction │\n",
            "├────────────────────────────┼──────────────────────────────┤\n",
            "│ Best R-squared             │ 0.3125                       │\n",
            "├────────────────────────────┼──────────────────────────────┤\n",
            "│ Prediction for 13th Period │ 59.614417                    │\n",
            "╘════════════════════════════╧══════════════════════════════╛\n",
            "Data saved to results.json\n"
          ]
        },
        {
          "data": {
            "text/plain": [
              "<Figure size 640x480 with 0 Axes>"
            ]
          },
          "metadata": {},
          "output_type": "display_data"
        }
      ],
      "source": [
        "\n",
        "def process_pn(data, pn_to_filter):\n",
        "    filtered_data = data[data['P/N'] == pn_to_filter]\n",
        "    formatted_data = []\n",
        "    for index, row in filtered_data.iterrows():\n",
        "        reversed_quantities = [row[f'D-{i}'] for i in range(1, 13)][::-1] #kalo 2 sampe 13 tinggal ganti range 1 ke 2\n",
        "        for i, quantity in enumerate(reversed_quantities, start=1): #kalo mulai D-2 start=2\n",
        "            formatted_data.append({\n",
        "                'P/N': row['P/N'],\n",
        "                'Period': i,\n",
        "                'Quantity': quantity\n",
        "            })\n",
        "\n",
        "    formatted_df = pd.DataFrame(formatted_data)\n",
        "\n",
        "    return formatted_df\n",
        "\n",
        "\n",
        "# PILIH PN DISINI\n",
        "pn_to_filter = 205230  # <--- nih yang ini (APABILA MEMILIKI HURUF PAKAI '...')\n",
        "formatted_df = process_pn(data, pn_to_filter)\n",
        "\n",
        "# MOVING AVERAGE\n",
        "last_12_sum = formatted_df['Quantity'].iloc[:12].sum()\n",
        "formatted_df['MA_Prediction'] = np.nan\n",
        "for i in range(1, 13): #ini juga sama kalo mulai D-2 range nya 2,13\n",
        "    formatted_df.loc[formatted_df['Period'] == i, 'MA_Prediction'] = formatted_df['Quantity'].iloc[:i].sum() / i\n",
        "\n",
        "ma_13th_period = last_12_sum / 13\n",
        "formatted_df = pd.concat([\n",
        "    formatted_df,\n",
        "    pd.DataFrame({'Period': [13], 'MA_Prediction': [ma_13th_period], 'Quantity': [np.nan]})\n",
        "], ignore_index=True)\n",
        "\n",
        "# WEIGHTED MOVING AVERAGE\n",
        "def calculate_exponential_weighted_moving_average(values, alpha=0.2):\n",
        "    return values.ewm(alpha=alpha, adjust=False).mean()\n",
        "\n",
        "alpha = 0.3\n",
        "formatted_df['Smoothed_Weighted_Prediction'] = calculate_exponential_weighted_moving_average(\n",
        "    formatted_df['Quantity'], alpha\n",
        ")\n",
        "\n",
        "# REGRESI LINEAR\n",
        "valid_data = formatted_df.dropna(subset=['Quantity'])\n",
        "X = valid_data[['Period']]\n",
        "y = valid_data['Quantity']\n",
        "model = LinearRegression()\n",
        "model.fit(X, y)\n",
        "formatted_df['Linear_Regression_Prediction'] = model.predict(formatted_df[['Period']])\n",
        "\n",
        "# POLINOM DERAJAT 2\n",
        "degree = 2\n",
        "poly = PolynomialFeatures(degree=degree)\n",
        "X_poly = poly.fit_transform(X)\n",
        "poly_model = LinearRegression()\n",
        "poly_model.fit(X_poly, y)\n",
        "X_all_poly = poly.transform(formatted_df[['Period']])\n",
        "formatted_df['Polynomial_Regression_Prediction_Degree_2'] = poly_model.predict(X_all_poly)\n",
        "\n",
        "# POLINOM DERAJAT 3\n",
        "degree = 3\n",
        "poly = PolynomialFeatures(degree=degree)\n",
        "X_poly = poly.fit_transform(X)\n",
        "poly_model = LinearRegression()\n",
        "poly_model.fit(X_poly, y)\n",
        "X_all_poly = poly.transform(formatted_df[['Period']])\n",
        "formatted_df['Polynomial_Regression_Prediction_Degree_3'] = poly_model.predict(X_all_poly)\n",
        "\n",
        "# SINGLE EXPONENTIAL SMOOTHING\n",
        "alpha_ses = 0.8  # ubah nilai alpha (semakin besar semakin berat ke data terbaru)\n",
        "beta_des = 0.3   # ubah nilai beta (semakin besar semakin cepat beradaptasi, kalo rendah bisa terjadi lag)\n",
        "def apply_ses(values, alpha=alpha_ses):\n",
        "    ses_model = SimpleExpSmoothing(values).fit(smoothing_level=alpha, optimized=False)\n",
        "    return ses_model.fittedvalues\n",
        "\n",
        "# DOUBLE EXPONENTIAL SMOOTHING\n",
        "def apply_des(values, alpha=alpha_ses, beta=beta_des):\n",
        "    des_model = ExponentialSmoothing(values, trend='add', seasonal=None).fit(smoothing_level=alpha, smoothing_trend=beta, optimized=False)\n",
        "    return des_model.fittedvalues\n",
        "\n",
        "formatted_df['SES_Prediction'] = apply_ses(formatted_df['Quantity'], alpha=alpha_ses)\n",
        "formatted_df['DES_Prediction'] = apply_des(formatted_df['Quantity'], alpha=alpha_ses, beta=beta_des)\n",
        "\n",
        "# RMSE DAN R2\n",
        "results = []\n",
        "for column in ['MA_Prediction', 'Smoothed_Weighted_Prediction', 'Linear_Regression_Prediction', 'Polynomial_Regression_Prediction_Degree_2', 'Polynomial_Regression_Prediction_Degree_3', 'SES_Prediction', 'DES_Prediction']:\n",
        "    valid_data = formatted_df.dropna(subset=['Quantity', column])\n",
        "    if valid_data.empty:\n",
        "        print(f\"Skipping {column} due to lack of valid data.\")\n",
        "        continue\n",
        "    try:\n",
        "        rmse = np.sqrt(mean_squared_error(valid_data['Quantity'], valid_data[column]))\n",
        "        r2 = r2_score(valid_data['Quantity'], valid_data[column])\n",
        "        results.append({'Model': column, 'RMSE': rmse, 'R2': r2})\n",
        "    except Exception as e:\n",
        "        print(f\"Error evaluating {column}: {e}\")\n",
        "\n",
        "results_df = pd.DataFrame(results)\n",
        "\n",
        "# BEST R2\n",
        "best_model_row = results_df.loc[results_df['R2'].idxmax()]\n",
        "best_model_name = best_model_row['Model']\n",
        "best_model_r2 = best_model_row['R2']\n",
        "next_period_prediction = formatted_df.loc[formatted_df['Period'] == 13, best_model_name].values[0]\n",
        "\n",
        "#print(f\"Best Model: {best_model_name}\")\n",
        "#print(f\"Best R-squared: {best_model_r2}\")\n",
        "#print(f\"Prediction for 13th Period: {next_period_prediction}\")\n",
        "\n",
        "if not os.path.exists('/mnt/data'):\n",
        "    os.makedirs('/mnt/data')\n",
        "\n",
        "#PLOT SEMUA GRAFIK\n",
        "plot_semua_path = '/mnt/data/plotsemua.png'\n",
        "plt.figure(figsize=(12, 8))\n",
        "plt.plot(formatted_df['Period'], formatted_df['Quantity'], label='Data Historis', marker='o', color='black')\n",
        "plt.plot(formatted_df['Period'], formatted_df['MA_Prediction'], label='Prediksi MA', linestyle='--', color='orange')\n",
        "plt.plot(formatted_df['Period'], formatted_df['Smoothed_Weighted_Prediction'], label='Prediksi WMA', linestyle='--', color='blue')\n",
        "plt.plot(formatted_df['Period'], formatted_df['Linear_Regression_Prediction'], label='Prediksi Regresi Linear', linestyle='--', color='green')\n",
        "plt.plot(formatted_df['Period'], formatted_df['Polynomial_Regression_Prediction_Degree_2'], label='Prediksi Regresi Polinomial Derajat 2', linestyle='--', color='red')\n",
        "plt.plot(formatted_df['Period'], formatted_df['Polynomial_Regression_Prediction_Degree_3'], label='Prediksi Regresi Polinomial Derajat 3', linestyle='--', color='purple' )\n",
        "plt.plot(formatted_df['Period'], formatted_df['SES_Prediction'], label='Prediksi SES', linestyle='--', color='magenta' )\n",
        "plt.plot(formatted_df['Period'], formatted_df['DES_Prediction'], label='Prediksi DES', linestyle='--', color='yellow' )\n",
        "plt.xlabel('Period')\n",
        "plt.ylabel('Quantity')\n",
        "plt.title(f'Prediksi Quantity untuk P/N {pn_to_filter}')\n",
        "plt.legend()\n",
        "plt.grid(False)\n",
        "plt.show()\n",
        "plt.savefig(plot_semua_path)\n",
        "#files.download(plot_semua_path)\n",
        "\n",
        "# PLOT GRAFIK PALING BAGUS\n",
        "plot_best_path = '/mnt/data/plotbest.png'\n",
        "plt.figure(figsize=(10, 6))\n",
        "plt.plot(formatted_df['Period'], formatted_df['Quantity'], label='Actual Quantity', marker='o', color='black')\n",
        "plt.plot(formatted_df['Period'], formatted_df[best_model_name], label=f'Best Model: {best_model_name}', linestyle='-', color='blue')\n",
        "plt.xlabel('Period')\n",
        "plt.ylabel('Quantity')\n",
        "plt.title(f'Prediksi menggunakan {best_model_name} untuk 1 bulan kedepan')\n",
        "plt.legend()\n",
        "plt.grid(False)\n",
        "plt.show()\n",
        "plt.savefig(plot_best_path)\n",
        "#files.download(plot_best_path)\n",
        "\n",
        "# Print formatted_df as a table\n",
        "print(tabulate(formatted_df, headers='keys', tablefmt='fancy_grid'))\n",
        "print(tabulate(results_df.sort_values(by='R2', ascending=False), headers='keys', tablefmt='fancy_grid'))\n",
        "table_data = [\n",
        "    [\"P/N\", pn_to_filter],\n",
        "    [\"Best Model\", best_model_name],\n",
        "    [\"Best R-squared\", f\"{best_model_r2:.4f}\"],\n",
        "    [\"Prediction for 13th Period\", f\"{next_period_prediction:.6f}\"]\n",
        "]\n",
        "print(tabulate(table_data, headers=[\"Metric\", \"Value\"], tablefmt=\"fancy_grid\"))\n",
        "\n",
        "# Export the DataFrame to a JSON file\n",
        "output_file_path = 'results.json'\n",
        "formatted_df.to_json(output_file_path, orient='records', indent=4)\n",
        "formatted_df.to_excel('result.xlsx', index=False)\n",
        "print(f\"Data saved to {output_file_path}\")\n",
        "\n",
        "#Export the pictures to a JSON file\n",
        "output_file_path = 'pictures.json'\n",
        "\n"
      ]
    },
    {
      "cell_type": "code",
      "execution_count": 4,
      "metadata": {
        "colab": {
          "base_uri": "https://localhost:8080/",
          "height": 542
        },
        "id": "cBA8pEeGgL4h",
        "outputId": "5f1bf84d-c9fc-4621-feec-2aef5c18e8dc"
      },
      "outputs": [
        {
          "data": {
            "application/vnd.plotly.v1+json": {
              "config": {
                "plotlyServerURL": "https://plot.ly"
              },
              "data": [
                {
                  "line": {
                    "color": "black"
                  },
                  "mode": "lines+markers",
                  "name": "Data Historis",
                  "type": "scatter",
                  "x": [
                    1,
                    2,
                    3,
                    4,
                    5,
                    6,
                    7,
                    8,
                    9,
                    10,
                    11,
                    12,
                    13
                  ],
                  "y": [
                    34,
                    94,
                    26,
                    26,
                    94,
                    0,
                    102,
                    60,
                    60,
                    60,
                    60,
                    60,
                    null
                  ]
                },
                {
                  "line": {
                    "color": "orange",
                    "dash": "dash"
                  },
                  "mode": "lines",
                  "name": "Prediksi MA",
                  "type": "scatter",
                  "x": [
                    1,
                    2,
                    3,
                    4,
                    5,
                    6,
                    7,
                    8,
                    9,
                    10,
                    11,
                    12,
                    13
                  ],
                  "y": [
                    34,
                    64,
                    51.333333333333336,
                    45,
                    54.8,
                    45.666666666666664,
                    53.714285714285715,
                    54.5,
                    55.111111111111114,
                    55.6,
                    56,
                    56.333333333333336,
                    52
                  ]
                },
                {
                  "line": {
                    "color": "blue",
                    "dash": "dash"
                  },
                  "mode": "lines",
                  "name": "Prediksi WMA",
                  "type": "scatter",
                  "x": [
                    1,
                    2,
                    3,
                    4,
                    5,
                    6,
                    7,
                    8,
                    9,
                    10,
                    11,
                    12,
                    13
                  ],
                  "y": [
                    34,
                    52,
                    44.199999999999996,
                    38.739999999999995,
                    55.318,
                    38.72259999999999,
                    57.70581999999999,
                    58.39407399999999,
                    58.87585179999999,
                    59.21309625999999,
                    59.44916738199999,
                    59.61441716739999,
                    59.61441716739999
                  ]
                },
                {
                  "line": {
                    "color": "green",
                    "dash": "dash"
                  },
                  "mode": "lines",
                  "name": "Prediksi Regresi Linear",
                  "type": "scatter",
                  "x": [
                    1,
                    2,
                    3,
                    4,
                    5,
                    6,
                    7,
                    8,
                    9,
                    10,
                    11,
                    12,
                    13
                  ],
                  "y": [
                    48.87179487179487,
                    50.22843822843823,
                    51.58508158508158,
                    52.94172494172494,
                    54.298368298368295,
                    55.655011655011656,
                    57.01165501165501,
                    58.36829836829837,
                    59.72494172494172,
                    61.08158508158508,
                    62.438228438228435,
                    63.794871794871796,
                    65.15151515151516
                  ]
                },
                {
                  "line": {
                    "color": "red",
                    "dash": "dash"
                  },
                  "mode": "lines",
                  "name": "Prediksi Regresi Polinomial Derajat 2",
                  "type": "scatter",
                  "x": [
                    1,
                    2,
                    3,
                    4,
                    5,
                    6,
                    7,
                    8,
                    9,
                    10,
                    11,
                    12,
                    13
                  ],
                  "y": [
                    47.07692307692308,
                    49.41258741258741,
                    51.55244755244755,
                    53.49650349650349,
                    55.24475524475525,
                    56.7972027972028,
                    58.15384615384615,
                    59.31468531468531,
                    60.27972027972028,
                    61.04895104895105,
                    61.62237762237762,
                    62,
                    62.18181818181818
                  ]
                },
                {
                  "line": {
                    "color": "purple",
                    "dash": "dash"
                  },
                  "mode": "lines",
                  "name": "Prediksi Regresi Polinomial Derajat 3",
                  "type": "scatter",
                  "x": [
                    1,
                    2,
                    3,
                    4,
                    5,
                    6,
                    7,
                    8,
                    9,
                    10,
                    11,
                    12,
                    13
                  ],
                  "y": [
                    51.38461538461282,
                    49.02097902097861,
                    48.81118881118959,
                    50.23310023310144,
                    52.76456876456985,
                    55.883449883450496,
                    59.067599067599055,
                    61.79487179487119,
                    63.54312354312261,
                    63.79020979020901,
                    62.01398601398602,
                    57.69230769230935,
                    50.30303030303465
                  ]
                },
                {
                  "line": {
                    "color": "magenta",
                    "dash": "dash"
                  },
                  "mode": "lines",
                  "name": "Prediksi SES",
                  "type": "scatter",
                  "x": [
                    1,
                    2,
                    3,
                    4,
                    5,
                    6,
                    7,
                    8,
                    9,
                    10,
                    11,
                    12,
                    13
                  ],
                  "y": [
                    34,
                    34,
                    82,
                    37.199999999999996,
                    28.24,
                    80.848,
                    16.169599999999996,
                    84.83392,
                    64.96678399999999,
                    60.993356799999994,
                    60.19867135999999,
                    60.039734272,
                    60.0079468544
                  ]
                },
                {
                  "line": {
                    "color": "yellow",
                    "dash": "dash"
                  },
                  "mode": "lines",
                  "name": "Prediksi DES",
                  "type": "scatter",
                  "x": [
                    1,
                    2,
                    3,
                    4,
                    5,
                    6,
                    7,
                    8,
                    9,
                    10,
                    11,
                    12,
                    13
                  ],
                  "y": [
                    47.4181818181818,
                    35.28145454545455,
                    94.94656,
                    35.93240669090909,
                    21.74579842327273,
                    90.64948514816001,
                    7.474346057579053,
                    95.1254751856439,
                    70.62558696670233,
                    63.17546845090545,
                    60.92333231952877,
                    60.251305336566524,
                    60.05658665919811
                  ]
                }
              ],
              "layout": {
                "legend": {
                  "title": {
                    "text": "Prediction Models"
                  }
                },
                "template": {
                  "data": {
                    "bar": [
                      {
                        "error_x": {
                          "color": "#2a3f5f"
                        },
                        "error_y": {
                          "color": "#2a3f5f"
                        },
                        "marker": {
                          "line": {
                            "color": "white",
                            "width": 0.5
                          },
                          "pattern": {
                            "fillmode": "overlay",
                            "size": 10,
                            "solidity": 0.2
                          }
                        },
                        "type": "bar"
                      }
                    ],
                    "barpolar": [
                      {
                        "marker": {
                          "line": {
                            "color": "white",
                            "width": 0.5
                          },
                          "pattern": {
                            "fillmode": "overlay",
                            "size": 10,
                            "solidity": 0.2
                          }
                        },
                        "type": "barpolar"
                      }
                    ],
                    "carpet": [
                      {
                        "aaxis": {
                          "endlinecolor": "#2a3f5f",
                          "gridcolor": "#C8D4E3",
                          "linecolor": "#C8D4E3",
                          "minorgridcolor": "#C8D4E3",
                          "startlinecolor": "#2a3f5f"
                        },
                        "baxis": {
                          "endlinecolor": "#2a3f5f",
                          "gridcolor": "#C8D4E3",
                          "linecolor": "#C8D4E3",
                          "minorgridcolor": "#C8D4E3",
                          "startlinecolor": "#2a3f5f"
                        },
                        "type": "carpet"
                      }
                    ],
                    "choropleth": [
                      {
                        "colorbar": {
                          "outlinewidth": 0,
                          "ticks": ""
                        },
                        "type": "choropleth"
                      }
                    ],
                    "contour": [
                      {
                        "colorbar": {
                          "outlinewidth": 0,
                          "ticks": ""
                        },
                        "colorscale": [
                          [
                            0,
                            "#0d0887"
                          ],
                          [
                            0.1111111111111111,
                            "#46039f"
                          ],
                          [
                            0.2222222222222222,
                            "#7201a8"
                          ],
                          [
                            0.3333333333333333,
                            "#9c179e"
                          ],
                          [
                            0.4444444444444444,
                            "#bd3786"
                          ],
                          [
                            0.5555555555555556,
                            "#d8576b"
                          ],
                          [
                            0.6666666666666666,
                            "#ed7953"
                          ],
                          [
                            0.7777777777777778,
                            "#fb9f3a"
                          ],
                          [
                            0.8888888888888888,
                            "#fdca26"
                          ],
                          [
                            1,
                            "#f0f921"
                          ]
                        ],
                        "type": "contour"
                      }
                    ],
                    "contourcarpet": [
                      {
                        "colorbar": {
                          "outlinewidth": 0,
                          "ticks": ""
                        },
                        "type": "contourcarpet"
                      }
                    ],
                    "heatmap": [
                      {
                        "colorbar": {
                          "outlinewidth": 0,
                          "ticks": ""
                        },
                        "colorscale": [
                          [
                            0,
                            "#0d0887"
                          ],
                          [
                            0.1111111111111111,
                            "#46039f"
                          ],
                          [
                            0.2222222222222222,
                            "#7201a8"
                          ],
                          [
                            0.3333333333333333,
                            "#9c179e"
                          ],
                          [
                            0.4444444444444444,
                            "#bd3786"
                          ],
                          [
                            0.5555555555555556,
                            "#d8576b"
                          ],
                          [
                            0.6666666666666666,
                            "#ed7953"
                          ],
                          [
                            0.7777777777777778,
                            "#fb9f3a"
                          ],
                          [
                            0.8888888888888888,
                            "#fdca26"
                          ],
                          [
                            1,
                            "#f0f921"
                          ]
                        ],
                        "type": "heatmap"
                      }
                    ],
                    "heatmapgl": [
                      {
                        "colorbar": {
                          "outlinewidth": 0,
                          "ticks": ""
                        },
                        "colorscale": [
                          [
                            0,
                            "#0d0887"
                          ],
                          [
                            0.1111111111111111,
                            "#46039f"
                          ],
                          [
                            0.2222222222222222,
                            "#7201a8"
                          ],
                          [
                            0.3333333333333333,
                            "#9c179e"
                          ],
                          [
                            0.4444444444444444,
                            "#bd3786"
                          ],
                          [
                            0.5555555555555556,
                            "#d8576b"
                          ],
                          [
                            0.6666666666666666,
                            "#ed7953"
                          ],
                          [
                            0.7777777777777778,
                            "#fb9f3a"
                          ],
                          [
                            0.8888888888888888,
                            "#fdca26"
                          ],
                          [
                            1,
                            "#f0f921"
                          ]
                        ],
                        "type": "heatmapgl"
                      }
                    ],
                    "histogram": [
                      {
                        "marker": {
                          "pattern": {
                            "fillmode": "overlay",
                            "size": 10,
                            "solidity": 0.2
                          }
                        },
                        "type": "histogram"
                      }
                    ],
                    "histogram2d": [
                      {
                        "colorbar": {
                          "outlinewidth": 0,
                          "ticks": ""
                        },
                        "colorscale": [
                          [
                            0,
                            "#0d0887"
                          ],
                          [
                            0.1111111111111111,
                            "#46039f"
                          ],
                          [
                            0.2222222222222222,
                            "#7201a8"
                          ],
                          [
                            0.3333333333333333,
                            "#9c179e"
                          ],
                          [
                            0.4444444444444444,
                            "#bd3786"
                          ],
                          [
                            0.5555555555555556,
                            "#d8576b"
                          ],
                          [
                            0.6666666666666666,
                            "#ed7953"
                          ],
                          [
                            0.7777777777777778,
                            "#fb9f3a"
                          ],
                          [
                            0.8888888888888888,
                            "#fdca26"
                          ],
                          [
                            1,
                            "#f0f921"
                          ]
                        ],
                        "type": "histogram2d"
                      }
                    ],
                    "histogram2dcontour": [
                      {
                        "colorbar": {
                          "outlinewidth": 0,
                          "ticks": ""
                        },
                        "colorscale": [
                          [
                            0,
                            "#0d0887"
                          ],
                          [
                            0.1111111111111111,
                            "#46039f"
                          ],
                          [
                            0.2222222222222222,
                            "#7201a8"
                          ],
                          [
                            0.3333333333333333,
                            "#9c179e"
                          ],
                          [
                            0.4444444444444444,
                            "#bd3786"
                          ],
                          [
                            0.5555555555555556,
                            "#d8576b"
                          ],
                          [
                            0.6666666666666666,
                            "#ed7953"
                          ],
                          [
                            0.7777777777777778,
                            "#fb9f3a"
                          ],
                          [
                            0.8888888888888888,
                            "#fdca26"
                          ],
                          [
                            1,
                            "#f0f921"
                          ]
                        ],
                        "type": "histogram2dcontour"
                      }
                    ],
                    "mesh3d": [
                      {
                        "colorbar": {
                          "outlinewidth": 0,
                          "ticks": ""
                        },
                        "type": "mesh3d"
                      }
                    ],
                    "parcoords": [
                      {
                        "line": {
                          "colorbar": {
                            "outlinewidth": 0,
                            "ticks": ""
                          }
                        },
                        "type": "parcoords"
                      }
                    ],
                    "pie": [
                      {
                        "automargin": true,
                        "type": "pie"
                      }
                    ],
                    "scatter": [
                      {
                        "fillpattern": {
                          "fillmode": "overlay",
                          "size": 10,
                          "solidity": 0.2
                        },
                        "type": "scatter"
                      }
                    ],
                    "scatter3d": [
                      {
                        "line": {
                          "colorbar": {
                            "outlinewidth": 0,
                            "ticks": ""
                          }
                        },
                        "marker": {
                          "colorbar": {
                            "outlinewidth": 0,
                            "ticks": ""
                          }
                        },
                        "type": "scatter3d"
                      }
                    ],
                    "scattercarpet": [
                      {
                        "marker": {
                          "colorbar": {
                            "outlinewidth": 0,
                            "ticks": ""
                          }
                        },
                        "type": "scattercarpet"
                      }
                    ],
                    "scattergeo": [
                      {
                        "marker": {
                          "colorbar": {
                            "outlinewidth": 0,
                            "ticks": ""
                          }
                        },
                        "type": "scattergeo"
                      }
                    ],
                    "scattergl": [
                      {
                        "marker": {
                          "colorbar": {
                            "outlinewidth": 0,
                            "ticks": ""
                          }
                        },
                        "type": "scattergl"
                      }
                    ],
                    "scattermapbox": [
                      {
                        "marker": {
                          "colorbar": {
                            "outlinewidth": 0,
                            "ticks": ""
                          }
                        },
                        "type": "scattermapbox"
                      }
                    ],
                    "scatterpolar": [
                      {
                        "marker": {
                          "colorbar": {
                            "outlinewidth": 0,
                            "ticks": ""
                          }
                        },
                        "type": "scatterpolar"
                      }
                    ],
                    "scatterpolargl": [
                      {
                        "marker": {
                          "colorbar": {
                            "outlinewidth": 0,
                            "ticks": ""
                          }
                        },
                        "type": "scatterpolargl"
                      }
                    ],
                    "scatterternary": [
                      {
                        "marker": {
                          "colorbar": {
                            "outlinewidth": 0,
                            "ticks": ""
                          }
                        },
                        "type": "scatterternary"
                      }
                    ],
                    "surface": [
                      {
                        "colorbar": {
                          "outlinewidth": 0,
                          "ticks": ""
                        },
                        "colorscale": [
                          [
                            0,
                            "#0d0887"
                          ],
                          [
                            0.1111111111111111,
                            "#46039f"
                          ],
                          [
                            0.2222222222222222,
                            "#7201a8"
                          ],
                          [
                            0.3333333333333333,
                            "#9c179e"
                          ],
                          [
                            0.4444444444444444,
                            "#bd3786"
                          ],
                          [
                            0.5555555555555556,
                            "#d8576b"
                          ],
                          [
                            0.6666666666666666,
                            "#ed7953"
                          ],
                          [
                            0.7777777777777778,
                            "#fb9f3a"
                          ],
                          [
                            0.8888888888888888,
                            "#fdca26"
                          ],
                          [
                            1,
                            "#f0f921"
                          ]
                        ],
                        "type": "surface"
                      }
                    ],
                    "table": [
                      {
                        "cells": {
                          "fill": {
                            "color": "#EBF0F8"
                          },
                          "line": {
                            "color": "white"
                          }
                        },
                        "header": {
                          "fill": {
                            "color": "#C8D4E3"
                          },
                          "line": {
                            "color": "white"
                          }
                        },
                        "type": "table"
                      }
                    ]
                  },
                  "layout": {
                    "annotationdefaults": {
                      "arrowcolor": "#2a3f5f",
                      "arrowhead": 0,
                      "arrowwidth": 1
                    },
                    "autotypenumbers": "strict",
                    "coloraxis": {
                      "colorbar": {
                        "outlinewidth": 0,
                        "ticks": ""
                      }
                    },
                    "colorscale": {
                      "diverging": [
                        [
                          0,
                          "#8e0152"
                        ],
                        [
                          0.1,
                          "#c51b7d"
                        ],
                        [
                          0.2,
                          "#de77ae"
                        ],
                        [
                          0.3,
                          "#f1b6da"
                        ],
                        [
                          0.4,
                          "#fde0ef"
                        ],
                        [
                          0.5,
                          "#f7f7f7"
                        ],
                        [
                          0.6,
                          "#e6f5d0"
                        ],
                        [
                          0.7,
                          "#b8e186"
                        ],
                        [
                          0.8,
                          "#7fbc41"
                        ],
                        [
                          0.9,
                          "#4d9221"
                        ],
                        [
                          1,
                          "#276419"
                        ]
                      ],
                      "sequential": [
                        [
                          0,
                          "#0d0887"
                        ],
                        [
                          0.1111111111111111,
                          "#46039f"
                        ],
                        [
                          0.2222222222222222,
                          "#7201a8"
                        ],
                        [
                          0.3333333333333333,
                          "#9c179e"
                        ],
                        [
                          0.4444444444444444,
                          "#bd3786"
                        ],
                        [
                          0.5555555555555556,
                          "#d8576b"
                        ],
                        [
                          0.6666666666666666,
                          "#ed7953"
                        ],
                        [
                          0.7777777777777778,
                          "#fb9f3a"
                        ],
                        [
                          0.8888888888888888,
                          "#fdca26"
                        ],
                        [
                          1,
                          "#f0f921"
                        ]
                      ],
                      "sequentialminus": [
                        [
                          0,
                          "#0d0887"
                        ],
                        [
                          0.1111111111111111,
                          "#46039f"
                        ],
                        [
                          0.2222222222222222,
                          "#7201a8"
                        ],
                        [
                          0.3333333333333333,
                          "#9c179e"
                        ],
                        [
                          0.4444444444444444,
                          "#bd3786"
                        ],
                        [
                          0.5555555555555556,
                          "#d8576b"
                        ],
                        [
                          0.6666666666666666,
                          "#ed7953"
                        ],
                        [
                          0.7777777777777778,
                          "#fb9f3a"
                        ],
                        [
                          0.8888888888888888,
                          "#fdca26"
                        ],
                        [
                          1,
                          "#f0f921"
                        ]
                      ]
                    },
                    "colorway": [
                      "#636efa",
                      "#EF553B",
                      "#00cc96",
                      "#ab63fa",
                      "#FFA15A",
                      "#19d3f3",
                      "#FF6692",
                      "#B6E880",
                      "#FF97FF",
                      "#FECB52"
                    ],
                    "font": {
                      "color": "#2a3f5f"
                    },
                    "geo": {
                      "bgcolor": "white",
                      "lakecolor": "white",
                      "landcolor": "white",
                      "showlakes": true,
                      "showland": true,
                      "subunitcolor": "#C8D4E3"
                    },
                    "hoverlabel": {
                      "align": "left"
                    },
                    "hovermode": "closest",
                    "mapbox": {
                      "style": "light"
                    },
                    "paper_bgcolor": "white",
                    "plot_bgcolor": "white",
                    "polar": {
                      "angularaxis": {
                        "gridcolor": "#EBF0F8",
                        "linecolor": "#EBF0F8",
                        "ticks": ""
                      },
                      "bgcolor": "white",
                      "radialaxis": {
                        "gridcolor": "#EBF0F8",
                        "linecolor": "#EBF0F8",
                        "ticks": ""
                      }
                    },
                    "scene": {
                      "xaxis": {
                        "backgroundcolor": "white",
                        "gridcolor": "#DFE8F3",
                        "gridwidth": 2,
                        "linecolor": "#EBF0F8",
                        "showbackground": true,
                        "ticks": "",
                        "zerolinecolor": "#EBF0F8"
                      },
                      "yaxis": {
                        "backgroundcolor": "white",
                        "gridcolor": "#DFE8F3",
                        "gridwidth": 2,
                        "linecolor": "#EBF0F8",
                        "showbackground": true,
                        "ticks": "",
                        "zerolinecolor": "#EBF0F8"
                      },
                      "zaxis": {
                        "backgroundcolor": "white",
                        "gridcolor": "#DFE8F3",
                        "gridwidth": 2,
                        "linecolor": "#EBF0F8",
                        "showbackground": true,
                        "ticks": "",
                        "zerolinecolor": "#EBF0F8"
                      }
                    },
                    "shapedefaults": {
                      "line": {
                        "color": "#2a3f5f"
                      }
                    },
                    "ternary": {
                      "aaxis": {
                        "gridcolor": "#DFE8F3",
                        "linecolor": "#A2B1C6",
                        "ticks": ""
                      },
                      "baxis": {
                        "gridcolor": "#DFE8F3",
                        "linecolor": "#A2B1C6",
                        "ticks": ""
                      },
                      "bgcolor": "white",
                      "caxis": {
                        "gridcolor": "#DFE8F3",
                        "linecolor": "#A2B1C6",
                        "ticks": ""
                      }
                    },
                    "title": {
                      "x": 0.05
                    },
                    "xaxis": {
                      "automargin": true,
                      "gridcolor": "#EBF0F8",
                      "linecolor": "#EBF0F8",
                      "ticks": "",
                      "title": {
                        "standoff": 15
                      },
                      "zerolinecolor": "#EBF0F8",
                      "zerolinewidth": 2
                    },
                    "yaxis": {
                      "automargin": true,
                      "gridcolor": "#EBF0F8",
                      "linecolor": "#EBF0F8",
                      "ticks": "",
                      "title": {
                        "standoff": 15
                      },
                      "zerolinecolor": "#EBF0F8",
                      "zerolinewidth": 2
                    }
                  }
                },
                "title": {
                  "text": "Interactive Quantity Prediction for P/N 205230"
                },
                "xaxis": {
                  "title": {
                    "text": "Period"
                  }
                },
                "yaxis": {
                  "title": {
                    "text": "Quantity"
                  }
                }
              }
            }
          },
          "metadata": {},
          "output_type": "display_data"
        }
      ],
      "source": [
        "#interactive plot\n",
        "import plotly.graph_objects as go\n",
        "\n",
        "# Create an interactive line plot\n",
        "fig = go.Figure()\n",
        "\n",
        "# Add traces for each prediction and the actual data\n",
        "fig.add_trace(go.Scatter(x=formatted_df['Period'], y=formatted_df['Quantity'],\n",
        "                         mode='lines+markers', name='Data Historis', line=dict(color='black')))\n",
        "fig.add_trace(go.Scatter(x=formatted_df['Period'], y=formatted_df['MA_Prediction'],\n",
        "                         mode='lines', name='Prediksi MA', line=dict(dash='dash', color='orange')))\n",
        "fig.add_trace(go.Scatter(x=formatted_df['Period'], y=formatted_df['Smoothed_Weighted_Prediction'],\n",
        "                         mode='lines', name='Prediksi WMA', line=dict(dash='dash', color='blue')))\n",
        "fig.add_trace(go.Scatter(x=formatted_df['Period'], y=formatted_df['Linear_Regression_Prediction'],\n",
        "                         mode='lines', name='Prediksi Regresi Linear', line=dict(dash='dash', color='green')))\n",
        "fig.add_trace(go.Scatter(x=formatted_df['Period'], y=formatted_df['Polynomial_Regression_Prediction_Degree_2'],\n",
        "                         mode='lines', name='Prediksi Regresi Polinomial Derajat 2', line=dict(dash='dash', color='red')))\n",
        "fig.add_trace(go.Scatter(x=formatted_df['Period'], y=formatted_df['Polynomial_Regression_Prediction_Degree_3'],\n",
        "                         mode='lines', name='Prediksi Regresi Polinomial Derajat 3', line=dict(dash='dash', color='purple')))\n",
        "fig.add_trace(go.Scatter(x=formatted_df['Period'], y=formatted_df['SES_Prediction'],\n",
        "                         mode='lines', name='Prediksi SES', line=dict(dash='dash', color='magenta')))\n",
        "fig.add_trace(go.Scatter(x=formatted_df['Period'], y=formatted_df['DES_Prediction'],\n",
        "                         mode='lines', name='Prediksi DES', line=dict(dash='dash', color='yellow')))\n",
        "\n",
        "# Customize layout\n",
        "fig.update_layout(title=f'Interactive Quantity Prediction for P/N {pn_to_filter}',\n",
        "                  xaxis_title='Period',\n",
        "                  yaxis_title='Quantity',\n",
        "                  legend_title='Prediction Models',\n",
        "                  template='plotly_white')\n",
        "\n",
        "# Show the plot\n",
        "fig.show()\n"
      ]
    }
  ],
  "metadata": {
    "colab": {
      "provenance": [],
      "toc_visible": true
    },
    "kernelspec": {
      "display_name": "Python 3",
      "name": "python3"
    },
    "language_info": {
      "codemirror_mode": {
        "name": "ipython",
        "version": 3
      },
      "file_extension": ".py",
      "mimetype": "text/x-python",
      "name": "python",
      "nbconvert_exporter": "python",
      "pygments_lexer": "ipython3",
      "version": "3.10.6"
    }
  },
  "nbformat": 4,
  "nbformat_minor": 0
}
