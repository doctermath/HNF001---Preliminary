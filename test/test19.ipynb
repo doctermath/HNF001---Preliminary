{
 "cells": [
  {
   "cell_type": "markdown",
   "metadata": {},
   "source": [
    "Test sending much data to the API and see the time difference"
   ]
  },
  {
   "cell_type": "code",
   "execution_count": 7,
   "metadata": {},
   "outputs": [],
   "source": [
    "import pandas as pd\n",
    "import numpy as np\n",
    "import requests\n",
    "import time"
   ]
  },
  {
   "cell_type": "code",
   "execution_count": null,
   "metadata": {},
   "outputs": [
    {
     "data": {
      "text/html": [
       "<div>\n",
       "<style scoped>\n",
       "    .dataframe tbody tr th:only-of-type {\n",
       "        vertical-align: middle;\n",
       "    }\n",
       "\n",
       "    .dataframe tbody tr th {\n",
       "        vertical-align: top;\n",
       "    }\n",
       "\n",
       "    .dataframe thead th {\n",
       "        text-align: right;\n",
       "    }\n",
       "</style>\n",
       "<table border=\"1\" class=\"dataframe\">\n",
       "  <thead>\n",
       "    <tr style=\"text-align: right;\">\n",
       "      <th></th>\n",
       "      <th>period</th>\n",
       "      <th>branch</th>\n",
       "      <th>agency</th>\n",
       "      <th>partno</th>\n",
       "      <th>FD</th>\n",
       "      <th>mean_12</th>\n",
       "      <th>std_12</th>\n",
       "      <th>ub</th>\n",
       "    </tr>\n",
       "  </thead>\n",
       "  <tbody>\n",
       "    <tr>\n",
       "      <th>9995</th>\n",
       "      <td>2024-10-01</td>\n",
       "      <td>35</td>\n",
       "      <td>10</td>\n",
       "      <td>47585451NP-9995</td>\n",
       "      <td>98.416061</td>\n",
       "      <td>36.819794</td>\n",
       "      <td>17.113931</td>\n",
       "      <td>64.303620</td>\n",
       "    </tr>\n",
       "    <tr>\n",
       "      <th>9996</th>\n",
       "      <td>2024-10-01</td>\n",
       "      <td>20</td>\n",
       "      <td>10</td>\n",
       "      <td>47585451NP-9996</td>\n",
       "      <td>50.143286</td>\n",
       "      <td>32.719618</td>\n",
       "      <td>12.188541</td>\n",
       "      <td>36.129919</td>\n",
       "    </tr>\n",
       "    <tr>\n",
       "      <th>9997</th>\n",
       "      <td>2024-10-01</td>\n",
       "      <td>20</td>\n",
       "      <td>19</td>\n",
       "      <td>47585451NP-9997</td>\n",
       "      <td>75.028451</td>\n",
       "      <td>33.065671</td>\n",
       "      <td>10.821566</td>\n",
       "      <td>64.327431</td>\n",
       "    </tr>\n",
       "    <tr>\n",
       "      <th>9998</th>\n",
       "      <td>2024-10-01</td>\n",
       "      <td>20</td>\n",
       "      <td>11</td>\n",
       "      <td>47585451NP-9998</td>\n",
       "      <td>74.055940</td>\n",
       "      <td>33.559730</td>\n",
       "      <td>13.718711</td>\n",
       "      <td>52.330523</td>\n",
       "    </tr>\n",
       "    <tr>\n",
       "      <th>9999</th>\n",
       "      <td>2024-12-01</td>\n",
       "      <td>ALL</td>\n",
       "      <td>19</td>\n",
       "      <td>47585451NP-9999</td>\n",
       "      <td>57.902325</td>\n",
       "      <td>22.720715</td>\n",
       "      <td>14.423697</td>\n",
       "      <td>37.746143</td>\n",
       "    </tr>\n",
       "  </tbody>\n",
       "</table>\n",
       "</div>"
      ],
      "text/plain": [
       "          period branch agency           partno         FD    mean_12  \\\n",
       "9995  2024-10-01     35     10  47585451NP-9995  98.416061  36.819794   \n",
       "9996  2024-10-01     20     10  47585451NP-9996  50.143286  32.719618   \n",
       "9997  2024-10-01     20     19  47585451NP-9997  75.028451  33.065671   \n",
       "9998  2024-10-01     20     11  47585451NP-9998  74.055940  33.559730   \n",
       "9999  2024-12-01    ALL     19  47585451NP-9999  57.902325  22.720715   \n",
       "\n",
       "         std_12         ub  \n",
       "9995  17.113931  64.303620  \n",
       "9996  12.188541  36.129919  \n",
       "9997  10.821566  64.327431  \n",
       "9998  13.718711  52.330523  \n",
       "9999  14.423697  37.746143  "
      ]
     },
     "metadata": {},
     "output_type": "display_data"
    }
   ],
   "source": [
    "# Define the number of rows\n",
    "data_size = 10\n",
    "\n",
    "# Generate the data\n",
    "data = {\n",
    "    \"period\": np.random.choice([\"2024-12-01\", \"2024-11-01\", \"2024-10-01\"], size=data_size),\n",
    "    \"branch\": np.random.choice([\"ALL\", \"20\", \"35\", \"12\"], size=data_size),\n",
    "    \"agency\": np.random.choice([\"19\", \"09\", \"10\", \"11\"], size=data_size),\n",
    "    \"partno\": [f\"47585451NP-{i}\" for i in range(data_size)],\n",
    "    \"FD\": np.random.uniform(50.0, 100.0, size=data_size),\n",
    "    \"mean_12\": np.random.uniform(20.0, 40.0, size=data_size),\n",
    "    \"std_12\": np.random.uniform(10.0, 20.0, size=data_size),\n",
    "    \"ub\": np.random.uniform(30.0, 70.0, size=data_size)\n",
    "}\n",
    "\n",
    "# Create DataFrame\n",
    "df = pd.DataFrame(data)\n",
    "\n",
    "# Display the first few rows\n",
    "display(df.tail())"
   ]
  },
  {
   "cell_type": "code",
   "execution_count": 58,
   "metadata": {},
   "outputs": [
    {
     "name": "stdout",
     "output_type": "stream",
     "text": [
      "Time taken for bulk request: 14.652889728546143 seconds\n",
      "Time taken for per-hit requests: 117.33938217163086 seconds\n"
     ]
    }
   ],
   "source": [
    "# Define the endpoint\n",
    "url = \"http://172.16.1.59:18080/v1/web/test1-post\"\n",
    "\n",
    "# Send data in bulk and measure time\n",
    "start_time_bulk = time.time()\n",
    "bulk_data = df.to_dict(orient=\"records\")\n",
    "response = requests.post(url, json=bulk_data, params={'append': False})\n",
    "if response.status_code != 200:\n",
    "    print(f\"Error: {response.status_code}, {response.text}\")\n",
    "end_time_bulk = time.time()\n",
    "\n",
    "print(f\"Time taken for bulk request: {end_time_bulk - start_time_bulk} seconds\")\n",
    "\n",
    "# Send data per hit and measure time\n",
    "start_time_per_hit = time.time()\n",
    "for _, row in df.iterrows():\n",
    "    response = requests.post(url, json=[row.to_dict()], params={'append': True})\n",
    "    if response.status_code != 200:\n",
    "        print(f\"Error: {response.status_code}, {response.text}\")\n",
    "end_time_per_hit = time.time()\n",
    "\n",
    "print(f\"Time taken for per-hit requests: {end_time_per_hit - start_time_per_hit} seconds\")\n"
   ]
  }
 ],
 "metadata": {
  "kernelspec": {
   "display_name": "Python 3",
   "language": "python",
   "name": "python3"
  },
  "language_info": {
   "codemirror_mode": {
    "name": "ipython",
    "version": 3
   },
   "file_extension": ".py",
   "mimetype": "text/x-python",
   "name": "python",
   "nbconvert_exporter": "python",
   "pygments_lexer": "ipython3",
   "version": "3.10.6"
  }
 },
 "nbformat": 4,
 "nbformat_minor": 2
}
