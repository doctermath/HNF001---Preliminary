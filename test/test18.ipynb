{
 "cells": [
  {
   "cell_type": "code",
   "execution_count": 11,
   "metadata": {},
   "outputs": [
    {
     "name": "stdout",
     "output_type": "stream",
     "text": [
      "File Size: 81.29 MB\n",
      "Number of Rows in 'tt-spartqty': 100000\n"
     ]
    }
   ],
   "source": [
    "import os\n",
    "import json\n",
    "\n",
    "# File path\n",
    "file_path = r\"C:\\Users\\User\\Desktop\\data2.json\"\n",
    "\n",
    "try:\n",
    "    # Get file size in MB\n",
    "    file_size_mb = os.path.getsize(file_path) / (1024 * 1024)\n",
    "\n",
    "    # Load JSON data\n",
    "    with open(file_path, 'r') as file:\n",
    "        data = json.load(file)\n",
    "\n",
    "    # Access data under 'tt-spartqty'\n",
    "    if \"tt-spartqty\" in data and isinstance(data[\"tt-spartqty\"], list):\n",
    "        num_rows = len(data[\"tt-spartqty\"])\n",
    "    else:\n",
    "        num_rows = 0\n",
    "\n",
    "    # Output results\n",
    "    print(f\"File Size: {file_size_mb:.2f} MB\")\n",
    "    print(f\"Number of Rows in 'tt-spartqty': {num_rows}\")\n",
    "except FileNotFoundError:\n",
    "    print(f\"File not found: {file_path}\")\n",
    "except json.JSONDecodeError:\n",
    "    print(f\"Error decoding JSON in file: {file_path}\")\n",
    "except Exception as e:\n",
    "    print(f\"An error occurred: {e}\")\n"
   ]
  }
 ],
 "metadata": {
  "kernelspec": {
   "display_name": "Python 3",
   "language": "python",
   "name": "python3"
  },
  "language_info": {
   "codemirror_mode": {
    "name": "ipython",
    "version": 3
   },
   "file_extension": ".py",
   "mimetype": "text/x-python",
   "name": "python",
   "nbconvert_exporter": "python",
   "pygments_lexer": "ipython3",
   "version": "3.10.6"
  }
 },
 "nbformat": 4,
 "nbformat_minor": 2
}
